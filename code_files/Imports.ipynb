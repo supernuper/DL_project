{
  "nbformat": 4,
  "nbformat_minor": 0,
  "metadata": {
    "colab": {
      "provenance": []
    },
    "kernelspec": {
      "name": "python3",
      "display_name": "Python 3"
    },
    "language_info": {
      "name": "python"
    }
  },
  "cells": [
    {
      "cell_type": "code",
      "source": [
        "# Imports\n",
        "import os\n",
        "import shutil\n",
        "import gdown\n",
        "import torch\n",
        "from torchvision import transforms, datasets\n",
        "from PIL import Image\n",
        "import matplotlib.pyplot as plt\n",
        "from torchvision.datasets import ImageFolder\n",
        "from torch.utils.data import DataLoader, random_split, ConcatDataset, Subset\n",
        "import numpy as np\n",
        "import time\n",
        "from torchvision.models import resnet50, ResNet50_Weights"
      ],
      "metadata": {
        "id": "KVEWwk6AlK3d"
      },
      "execution_count": null,
      "outputs": []
    }
  ]
}
