{
  "nbformat": 4,
  "nbformat_minor": 0,
  "metadata": {
    "colab": {
      "provenance": []
    },
    "kernelspec": {
      "name": "python3",
      "display_name": "Python 3"
    },
    "language_info": {
      "name": "python"
    }
  },
  "cells": [
    {
      "cell_type": "code",
      "source": [
        "# Initialize the model\n",
        "# Best available weights (currently alias for IMAGENET1K_V2)\n",
        "# Note that these weights may change across versions\n",
        "model = resnet50(weights=ResNet50_Weights.DEFAULT)\n",
        "print(model)"
      ],
      "metadata": {
        "id": "KOccVuEOs5EP"
      },
      "execution_count": null,
      "outputs": []
    },
    {
      "cell_type": "code",
      "source": [
        "# Feature extraction\n",
        "# Only the final layer (fully connected layer) is unfrozen.\n",
        "\n",
        "params_to_update = get_params_to_update(model, True)\n",
        "val_accuracy_1 = train_and_evaluate_with_graph_model(model, train_loader, val_loader, params_to_update, epochs,\n",
        "                                                     weight_decay, learning_rate, device)"
      ],
      "metadata": {
        "id": "kqki2_eGJQdo"
      },
      "execution_count": null,
      "outputs": []
    },
    {
      "cell_type": "code",
      "source": [
        "# Fine tuning with 3 last layers\n",
        "# Reload the model\n",
        "model = resnet50(weights=ResNet50_Weights.DEFAULT)\n",
        "params_to_update = get_params_to_update(model, False, 5)\n",
        "val_accuracy_2 = train_and_evaluate_with_graph_model(model, train_loader, val_loader, params_to_update, epochs,\n",
        "                                                     weight_decay, learning_rate, device)"
      ],
      "metadata": {
        "id": "OwCT7aB143Jb"
      },
      "execution_count": null,
      "outputs": []
    },
    {
      "cell_type": "code",
      "source": [
        "# Fine tuning with 6 last layers\n",
        "# Reload the model\n",
        "model = resnet50(weights=ResNet50_Weights.DEFAULT)\n",
        "params_to_update = get_params_to_update(model, False, 10)\n",
        "val_accuracy_3 = train_and_evaluate_with_graph_model(model, train_loader, val_loader, params_to_update, epochs,\n",
        "                                                     weight_decay, learning_rate, device)"
      ],
      "metadata": {
        "id": "eAPTpLsk425w"
      },
      "execution_count": null,
      "outputs": []
    },
    {
      "cell_type": "code",
      "source": [
        "# Fine tuning with 12 last layers\n",
        "# Reload the model\n",
        "model = resnet50(weights=ResNet50_Weights.DEFAULT)\n",
        "params_to_update = get_params_to_update(model, False, 19)\n",
        "val_accuracy_4 = train_and_evaluate_with_graph_model(model, train_loader, val_loader, params_to_update, epochs,\n",
        "                                                     weight_decay, learning_rate, device)"
      ],
      "metadata": {
        "id": "cGm9NDmT42u9"
      },
      "execution_count": null,
      "outputs": []
    },
    {
      "cell_type": "code",
      "source": [
        "# Fine tuning with 15 last layers\n",
        "# Reload the model\n",
        "model = resnet50(weights=ResNet50_Weights.DEFAULT)\n",
        "params_to_update = get_params_to_update(model, False, 25)\n",
        "val_accuracy_5 = train_and_evaluate_with_graph_model(model, train_loader, val_loader, params_to_update, epochs,\n",
        "                                                     weight_decay, learning_rate, device)"
      ],
      "metadata": {
        "id": "6-x7N-0I42mx"
      },
      "execution_count": null,
      "outputs": []
    },
    {
      "cell_type": "code",
      "source": [
        "# Fine tuning with 25 last layers\n",
        "# Reload the model\n",
        "model = resnet50(weights=ResNet50_Weights.DEFAULT)\n",
        "params_to_update = get_params_to_update(model, False, 40)\n",
        "val_accuracy_6 = train_and_evaluate_with_graph_model(model, train_loader, val_loader, params_to_update, epochs,\n",
        "                                                     weight_decay, learning_rate, device)"
      ],
      "metadata": {
        "id": "sIjAMICm42eb"
      },
      "execution_count": null,
      "outputs": []
    },
    {
      "cell_type": "code",
      "source": [
        "# Final training and evaluation on the test set\n",
        "# Concat the dataset of train and val\n",
        "train_loader = DataLoader(ConcatDataset([trainset, valset]), batch_size, shuffle=True)\n",
        "test_loader = DataLoader(test_set, batch_size, shuffle=False)\n",
        "\n",
        "# Fine tuning the last 25 layers gave us the best validation accuracy\n",
        "# Reload the model\n",
        "model = resnet50(weights=ResNet50_Weights.DEFAULT)\n",
        "params_to_update = get_params_to_update(model, False, 40)\n",
        "\n",
        "# Training and evaluating\n",
        "test_accuracy = train_and_evaluate_with_graph_model(model, train_loader, test_loader, params_to_update, epochs,\n",
        "                                                     weight_decay, learning_rate, device)"
      ],
      "metadata": {
        "id": "ruFK0HwyAtZV"
      },
      "execution_count": null,
      "outputs": []
    }
  ]
}
