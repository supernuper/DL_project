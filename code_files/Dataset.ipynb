{
  "nbformat": 4,
  "nbformat_minor": 0,
  "metadata": {
    "colab": {
      "provenance": []
    },
    "kernelspec": {
      "name": "python3",
      "display_name": "Python 3"
    },
    "language_info": {
      "name": "python"
    }
  },
  "cells": [
    {
      "cell_type": "code",
      "source": [
        "transform=transforms.Compose([transforms.Resize((64, 64)),\n",
        "                                    transforms.ToTensor(),\n",
        "                                    transforms.Normalize((0.4914, 0.4822, 0.4465), (0.2023, 0.1994, 0.2010))\n",
        "                                  ])\n",
        "\n",
        "train_set = datasets.CIFAR100(root='./data', train=True, download=True, transform=transform)\n",
        "test_set = datasets.CIFAR100(root='./data', train=False, download=True, transform=transform)"
      ],
      "metadata": {
        "id": "n3BSs4fEnCxJ"
      },
      "execution_count": null,
      "outputs": []
    },
    {
      "cell_type": "code",
      "source": [
        "print(\"Train set size:\", len(train_set))\n",
        "print(\"Test set size:\", len(test_set))"
      ],
      "metadata": {
        "id": "DKxVZo8KowPn"
      },
      "execution_count": null,
      "outputs": []
    },
    {
      "cell_type": "code",
      "source": [
        "# Print images examples\n",
        "\n",
        "# Define the conversion function for displaying images\n",
        "def convert_to_imshow_format(image):\n",
        "    mean = torch.tensor([0.4914, 0.4822, 0.4465])\n",
        "    std = torch.tensor([0.2023, 0.1994, 0.2010])\n",
        "    image = image * std[:, None, None] + mean[:, None, None] # Adjust to unnormalize\n",
        "    image = image.clamp(0, 1).numpy()  # Convert to numpy array\n",
        "    return image.transpose(1, 2, 0)   # Change the order to HWC\n",
        "\n",
        "# Create DataLoader for displaying images example\n",
        "dataloader = DataLoader(train_set, batch_size=10, shuffle=True)\n",
        "\n",
        "# Get a batch of images and labels\n",
        "dataiter = iter(dataloader)\n",
        "images, labels = next(dataiter)\n",
        "\n",
        "# Define class names (you may need to adjust this based on your dataset)\n",
        "classes = dataloader.dataset.classes\n",
        "\n",
        "# Plot images\n",
        "fig, axes = plt.subplots(1, len(images), figsize=(20, 5))\n",
        "for idx, image in enumerate(images):\n",
        "    axes[idx].imshow(convert_to_imshow_format(image))\n",
        "    axes[idx].set_title(classes[labels[idx]])\n",
        "    axes[idx].set_xticks([])\n",
        "    axes[idx].set_yticks([])\n",
        "\n",
        "plt.show()"
      ],
      "metadata": {
        "id": "L9Jv-3dEngxv"
      },
      "execution_count": null,
      "outputs": []
    }
  ]
}
