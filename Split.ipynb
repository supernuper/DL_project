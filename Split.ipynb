{
  "nbformat": 4,
  "nbformat_minor": 0,
  "metadata": {
    "colab": {
      "provenance": []
    },
    "kernelspec": {
      "name": "python3",
      "display_name": "Python 3"
    },
    "language_info": {
      "name": "python"
    }
  },
  "cells": [
    {
      "cell_type": "code",
      "source": [
        "# Function to split dataset\n",
        "def split_dataset(dataset, train_ratio=0.8, random_seed=45):\n",
        "    # Set the random seed for reproducibility\n",
        "    np.random.seed(random_seed)\n",
        "\n",
        "    # Get the total number of samples\n",
        "    num_samples = len(dataset)\n",
        "\n",
        "    # Create a list of indices\n",
        "    indices = list(range(num_samples))\n",
        "\n",
        "    # Shuffle the indices\n",
        "    np.random.shuffle(indices)\n",
        "\n",
        "    # Calculate the split point\n",
        "    split = int(np.floor(train_ratio * num_samples))\n",
        "\n",
        "    # Split the indices\n",
        "    train_indices, val_indices = indices[:split], indices[split:]\n",
        "\n",
        "    # Create Subset objects\n",
        "    train_subset = Subset(dataset, train_indices)\n",
        "    val_subset = Subset(dataset, val_indices)\n",
        "\n",
        "    return train_subset, val_subset\n",
        "\n",
        "# Split the dataset\n",
        "\n",
        "trainset, valset = split_dataset(train_set)\n",
        "\n",
        "print(f\"Train set size: {len(trainset)}\")\n",
        "print(f\"Validation set size: {len(valset)}\")\n",
        "print(f\"Test set size: {len(test_set)}\")"
      ],
      "metadata": {
        "id": "f7QgaeWGrH4Y"
      },
      "execution_count": null,
      "outputs": []
    }
  ]
}