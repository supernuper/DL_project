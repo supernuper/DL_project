{
  "nbformat": 4,
  "nbformat_minor": 0,
  "metadata": {
    "colab": {
      "provenance": []
    },
    "kernelspec": {
      "name": "python3",
      "display_name": "Python 3"
    },
    "language_info": {
      "name": "python"
    }
  },
  "cells": [
    {
      "cell_type": "code",
      "source": [
        "# Functions for training the model and calculating accuracy\n",
        "\n",
        "def calculate_accuracy(model, dataloader, device):\n",
        "    model.eval() # put in evaluation mode, turn off Dropout, BatchNorm uses learned statistics\n",
        "    total_correct = 0\n",
        "    total_images = 0\n",
        "    with torch.no_grad():\n",
        "        for data in dataloader:\n",
        "            images, labels = data\n",
        "            images = images.to(device)\n",
        "            labels = labels.to(device)\n",
        "            outputs = model(images)\n",
        "\n",
        "            _, predicted = torch.max(outputs.data, 1)\n",
        "            total_images += labels.size(0)\n",
        "            total_correct += (predicted == labels).sum().item()\n",
        "\n",
        "    model_accuracy = total_correct / total_images * 100\n",
        "    return model_accuracy\n",
        "\n",
        "def train_model(model, train_loader, criterion, optimizer, scheduler, epochs, device):\n",
        "    train_losses = []\n",
        "    train_accuracies = []\n",
        "\n",
        "    for epoch in range(1, epochs + 1):\n",
        "        model.train()\n",
        "        running_loss = 0.0\n",
        "        epoch_time = time.time()\n",
        "\n",
        "        for i, data in enumerate(train_loader, 0):\n",
        "            inputs, labels = data\n",
        "\n",
        "            inputs = inputs.to(device)\n",
        "            labels = labels.to(device)\n",
        "            outputs = model(inputs)\n",
        "            loss = criterion(outputs, labels)\n",
        "\n",
        "            optimizer.zero_grad()\n",
        "            loss.backward()\n",
        "            optimizer.step()\n",
        "\n",
        "            running_loss += loss.data.item()\n",
        "\n",
        "        running_loss /= len(train_loader)\n",
        "        train_losses.append(running_loss)\n",
        "        train_accuracy = calculate_accuracy(model, train_loader, device)\n",
        "        train_accuracies.append(train_accuracy)\n",
        "        scheduler.step()\n",
        "\n",
        "        log = \"Epoch: {} | Loss: {:.4f} | Training accuracy: {:.3f}% \".format(epoch, running_loss, train_accuracy)\n",
        "        epoch_time = time.time() - epoch_time\n",
        "        log += \"Epoch Time: {:.2f} secs\".format(epoch_time)\n",
        "        print(log)\n",
        "\n",
        "    return train_losses, train_accuracies"
      ],
      "metadata": {
        "id": "oqy-1ZZw0ixB"
      },
      "execution_count": null,
      "outputs": []
    },
    {
      "cell_type": "code",
      "source": [
        "# Function for choosing parameters to learn\n",
        "\n",
        "def get_params_to_update(model, feature_extraction, layers_num=0):\n",
        "  params_to_update = []\n",
        "  print(\"Params to learn:\")\n",
        "  if (feature_extraction):\n",
        "    # Feature extraction\n",
        "    for name, param in model.named_parameters():\n",
        "      if \"fc\" not in name: # Freeze all but last layer\n",
        "          param.requires_grad = False\n",
        "      else:\n",
        "          param.requires_grad = True\n",
        "      if param.requires_grad == True:\n",
        "          params_to_update.append(param)\n",
        "          print(\"\\t\",name)\n",
        "  else:\n",
        "    # Fine tuning wanted layers\n",
        "    for param in model.parameters():\n",
        "      param.requires_grad = False\n",
        "\n",
        "    # Get all layer names\n",
        "    param_names = [name for name, _ in model.named_parameters()]\n",
        "    # Unfreeze the last wanted layers\n",
        "    for name in param_names[-layers_num:]:\n",
        "      param = dict(model.named_parameters())[name]\n",
        "      param.requires_grad = True\n",
        "\n",
        "    # Check the correct parameters are unfreezed\n",
        "    params_to_update = []\n",
        "    for name, param in model.named_parameters():\n",
        "      if param.requires_grad:\n",
        "        params_to_update.append(param)\n",
        "        print(\"\\t\",name)\n",
        "\n",
        "  return params_to_update"
      ],
      "metadata": {
        "id": "iF7uGSgS4MRG"
      },
      "execution_count": null,
      "outputs": []
    },
    {
      "cell_type": "code",
      "source": [
        "# Function for training the model\n",
        "def train_and_evaluate_with_graph_model(model, train_loader, val_loader, params_to_update, epochs, weight_decay, learning_rate, device):\n",
        "    criterion = torch.nn.CrossEntropyLoss()\n",
        "    model.to(device)\n",
        "    optimizer = torch.optim.Adam(params_to_update, lr=learning_rate, weight_decay=weight_decay)\n",
        "    scheduler = torch.optim.lr_scheduler.CosineAnnealingLR(optimizer, T_max=epochs)\n",
        "    train_losses, train_accuracies = train_model(model, train_loader, criterion, optimizer, scheduler, epochs, device)\n",
        "\n",
        "    # Plotting\n",
        "    epochs_range = range(1, epochs + 1)\n",
        "    plt.figure(figsize=(12, 4))\n",
        "    plt.subplot(1, 2, 1)\n",
        "    plt.plot(epochs_range, train_losses, label='Training Loss')\n",
        "    plt.xlabel('Epochs')\n",
        "    plt.ylabel('Loss')\n",
        "    plt.title('Train Loss Curve')\n",
        "    plt.locator_params(axis='x', integer=True, tight=True)\n",
        "    plt.legend()\n",
        "    plt.show()\n",
        "\n",
        "    val_accuracy = calculate_accuracy(model, val_loader, device)\n",
        "    print(\"Accuracy: {:.3f}%\".format(val_accuracy))\n",
        "    return val_accuracy"
      ],
      "metadata": {
        "id": "dtd3KEVR6_r7"
      },
      "execution_count": null,
      "outputs": []
    },
    {
      "cell_type": "code",
      "source": [
        "# Hyperparameters\n",
        "batch_size = 1024\n",
        "learning_rate = 0.001\n",
        "epochs = 15\n",
        "weight_decay = 1e-4\n",
        "\n",
        "device = torch.device(\"cuda:0\" if torch.cuda.is_available() else \"cpu\")"
      ],
      "metadata": {
        "id": "Flo0DlFy0imG"
      },
      "execution_count": null,
      "outputs": []
    },
    {
      "cell_type": "code",
      "source": [
        "# DataLoaders\n",
        "train_loader = DataLoader(trainset, batch_size, shuffle=True)\n",
        "val_loader = DataLoader(valset, batch_size, shuffle=False)"
      ],
      "metadata": {
        "id": "c_MPpTY31V3Z"
      },
      "execution_count": null,
      "outputs": []
    }
  ]
}